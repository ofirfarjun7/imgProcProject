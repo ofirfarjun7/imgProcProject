{
  "nbformat": 4,
  "nbformat_minor": 0,
  "metadata": {
    "colab": {
      "name": "try_python.py",
      "provenance": [],
      "authorship_tag": "ABX9TyN8ZG38px7nuTl5CEd5kxfL",
      "include_colab_link": true
    },
    "kernelspec": {
      "name": "python3",
      "display_name": "Python 3"
    }
  },
  "cells": [
    {
      "cell_type": "markdown",
      "metadata": {
        "id": "view-in-github",
        "colab_type": "text"
      },
      "source": [
        "<a href=\"https://colab.research.google.com/github/ofirfarjun7/imgProcProject/blob/main/try_python_py.ipynb\" target=\"_parent\"><img src=\"https://colab.research.google.com/assets/colab-badge.svg\" alt=\"Open In Colab\"/></a>"
      ]
    },
    {
      "cell_type": "code",
      "metadata": {
        "colab": {
          "base_uri": "https://localhost:8080/"
        },
        "id": "8QMiVqYC2MKy",
        "outputId": "e21490a9-6a59-4e85-b34f-18639f09302e"
      },
      "source": [
        "print('Na Na Na')"
      ],
      "execution_count": 1,
      "outputs": [
        {
          "output_type": "stream",
          "text": [
            "Na Na Na\n"
          ],
          "name": "stdout"
        }
      ]
    }
  ]
}